{
 "cells": [
  {
   "cell_type": "code",
   "execution_count": 3,
   "metadata": {},
   "outputs": [],
   "source": [
    "import matplotlib.pyplot as plt\n",
    "import pandas as pd\n",
    "import numpy as np\n",
    "import datetime\n",
    "import statsmodels.api as sm\n",
    "\n",
    "\"\"\"\n",
    "Loads Political_Bias_Classifier.ipynb into this notebook - will\n",
    "run file to extract functions and pre-trained classifier\n",
    "\"\"\"\n",
    "from ipynb.fs.full.Political_Bias_Classifier import *\n",
    "\n",
    "def plot_source(data, source):\n",
    "    \n",
    "    \"\"\"\n",
    "    Input: \n",
    "        data - The read-in Pandas DataFrame of the dataset\n",
    "        source - Name of a news source in the dataset\n",
    "    Output: \n",
    "        Call to form_plot with calculated averages\n",
    "    \"\"\"\n",
    "\n",
    "    #Cleaning the text and date data for the source\n",
    "    source_data = data[data['publication'] == source]\n",
    "    source_data['content'] = source_data['content'].apply(clean_text)\n",
    "    source_data['date'] = pd.to_datetime(source_data['date'], \n",
    "                                         infer_datetime_format=True)\n",
    "    \n",
    "    #Filter out articles before 2016\n",
    "    starting_month = pd.to_datetime(\"2016-01-01\")\n",
    "    source_data = source_data[source_data['date'] >= starting_month]\n",
    "    \n",
    "    current_month = starting_month\n",
    "    ending_month = pd.to_datetime(max(source_data['date']))\n",
    "    monthly_averages = []\n",
    "    \n",
    "    while current_month <= ending_month:\n",
    "        \n",
    "        #Extracts the text for all of the articles in the current month\n",
    "        monthly_articles = source_data[source_data['date'].dt.year == current_month.year]\n",
    "        monthly_articles = monthly_articles['content'][monthly_articles['date'].dt.month\n",
    "                                                       == current_month.month]\n",
    "        \n",
    "        #Appends mean bias score for current month onto monthly_averages list\n",
    "        monthly_averages.append(np.mean([np.argmax(data_pipeline.predict_proba([article])) \n",
    "                                         for article in monthly_articles]))\n",
    "        \n",
    "        current_month += pd.Timedelta(30, unit=\"d\")\n",
    "    \n",
    "    form_plot(monthly_averages, source)\n",
    "    \n",
    "\n",
    "def form_plot(averages, source):\n",
    "    \n",
    "    \"\"\"\n",
    "    Input:\n",
    "        averages - Calculated monthly average political bias score for given source\n",
    "        source - Name of the source that has been analyzed\n",
    "    Output:\n",
    "        Line graph of average monthly bias scores over analysis period\n",
    "        Results of linear regression analysis on bias values\n",
    "    \"\"\"\n",
    "    \n",
    "    #Setting up the plot characteristics\n",
    "    fig, ax = plt.subplots(1,1, figsize=(10,5))\n",
    "    plt.plot(np.arange(len(averages)), averages)\n",
    "    title = \"Political Bias Trends for \" + source\n",
    "    plt.title(title)\n",
    "    plt.ylim(0, 4)\n",
    "    \n",
    "    #Setting the tick marks for the x-axis\n",
    "    x_ticks = pd.date_range(start = \"1/1/2016\", periods= len(averages), freq='M')\n",
    "    plt.xticks(np.arange(len(x_ticks)), \n",
    "               [str(x.year) + \"-\" + str(x.month) for x in x_ticks],\n",
    "              rotation = 20)\n",
    "    \n",
    "    #Setting the tick marks for the y-axis\n",
    "    y_ticks = ['Left', 'Left Leaning', 'Unbiased', 'Right Leaning', 'Right']\n",
    "    plt.yticks(np.arange(len(y_ticks)), y_ticks, rotation=20)\n",
    "    \n",
    "    #Fitting and plotting the regression model\n",
    "    x = np.arange(len(averages))\n",
    "    x = sm.add_constant(x, prepend=False)\n",
    "    model = sm.OLS(averages, x)\n",
    "    result = model.fit()\n",
    "    seq = np.arange(len(averages))\n",
    "    plt.plot(seq, result.params[0]*seq + result.params[1], '--')\n",
    "    \n",
    "    plt.show()\n",
    "    \n",
    "    #Prints a summary of the regression statistics\n",
    "    print(result.summary())"
   ]
  },
  {
   "cell_type": "code",
   "execution_count": 4,
   "metadata": {},
   "outputs": [
    {
     "name": "stderr",
     "output_type": "stream",
     "text": [
      "C:\\Users\\elire\\Anaconda3\\lib\\site-packages\\ipykernel_launcher.py:25: SettingWithCopyWarning: \n",
      "A value is trying to be set on a copy of a slice from a DataFrame.\n",
      "Try using .loc[row_indexer,col_indexer] = value instead\n",
      "\n",
      "See the caveats in the documentation: http://pandas.pydata.org/pandas-docs/stable/user_guide/indexing.html#returning-a-view-versus-a-copy\n",
      "C:\\Users\\elire\\Anaconda3\\lib\\site-packages\\ipykernel_launcher.py:27: SettingWithCopyWarning: \n",
      "A value is trying to be set on a copy of a slice from a DataFrame.\n",
      "Try using .loc[row_indexer,col_indexer] = value instead\n",
      "\n",
      "See the caveats in the documentation: http://pandas.pydata.org/pandas-docs/stable/user_guide/indexing.html#returning-a-view-versus-a-copy\n"
     ]
    },
    {
     "data": {
      "image/png": "[encoded data removed]",
      "text/plain": [
       "<Figure size 720x360 with 1 Axes>"
      ]
     },
     "metadata": {
      "needs_background": "light"
     },
     "output_type": "display_data"
    },
    {
     "name": "stdout",
     "output_type": "stream",
     "text": [
      "                            OLS Regression Results                            \n",
      "==============================================================================\n",
      "Dep. Variable:                      y   R-squared:                       0.725\n",
      "Model:                            OLS   Adj. R-squared:                  0.708\n",
      "Method:                 Least Squares   F-statistic:                     42.16\n",
      "Date:                Mon, 04 Jan 2021   Prob (F-statistic):           7.42e-06\n",
      "Time:                        16:29:26   Log-Likelihood:                 14.715\n",
      "No. Observations:                  18   AIC:                            -25.43\n",
      "Df Residuals:                      16   BIC:                            -23.65\n",
      "Df Model:                           1                                         \n",
      "Covariance Type:            nonrobust                                         \n",
      "==============================================================================\n",
      "                 coef    std err          t      P>|t|      [0.025      0.975]\n",
      "------------------------------------------------------------------------------\n",
      "x1             0.0334      0.005      6.493      0.000       0.023       0.044\n",
      "const          3.1001      0.051     60.468      0.000       2.991       3.209\n",
      "==============================================================================\n",
      "Omnibus:                        2.092   Durbin-Watson:                   0.375\n",
      "Prob(Omnibus):                  0.351   Jarque-Bera (JB):                1.698\n",
      "Skew:                          -0.684   Prob(JB):                        0.428\n",
      "Kurtosis:                       2.375   Cond. No.                         19.3\n",
      "==============================================================================\n",
      "\n",
      "Warnings:\n",
      "[1] Standard Errors assume that the covariance matrix of the errors is correctly specified.\n"
     ]
    },
    {
     "name": "stderr",
     "output_type": "stream",
     "text": [
      "C:\\Users\\elire\\Anaconda3\\lib\\site-packages\\scipy\\stats\\stats.py:1450: UserWarning: kurtosistest only valid for n>=20 ... continuing anyway, n=18\n",
      "  \"anyway, n=%i\" % int(n))\n"
     ]
    }
   ],
   "source": [
    "data = pd.read_csv(\"Trend_Data.csv\")\n",
    "plot_source(data, \"Breitbart\")"
   ]
  }
 ],
 "metadata": {
  "kernelspec": {
   "display_name": "Python 3",
   "language": "python",
   "name": "python3"
  },
  "language_info": {
   "codemirror_mode": {
    "name": "ipython",
    "version": 3
   },
   "file_extension": ".py",
   "mimetype": "text/x-python",
   "name": "python",
   "nbconvert_exporter": "python",
   "pygments_lexer": "ipython3",
   "version": "3.7.4"
  }
 },
 "nbformat": 4,
 "nbformat_minor": 2
}
